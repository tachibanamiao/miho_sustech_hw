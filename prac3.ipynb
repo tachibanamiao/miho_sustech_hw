{
 "cells": [
  {
   "cell_type": "markdown",
   "metadata": {},
   "source": [
    "# Introduction to Artificial Intelligence for Non Computing"
   ]
  },
  {
   "cell_type": "markdown",
   "metadata": {},
   "source": [
    "## Practical 3 (weeks 5 - 6)"
   ]
  },
  {
   "cell_type": "markdown",
   "metadata": {},
   "source": [
    "The following links provide additional information about data analysis , machine learning and Numpy"
   ]
  },
  {
   "cell_type": "markdown",
   "metadata": {},
   "source": [
    "Python data analysis: https://www.imooc.com/learn/843\n",
    "machine learning: https://www.imooc.com/learn/717\n",
    "Numpy :https://www.imooc.com/learn/943"
   ]
  },
  {
   "cell_type": "markdown",
   "metadata": {},
   "source": [
    "#### Theory Questions"
   ]
  },
  {
   "cell_type": "markdown",
   "metadata": {},
   "source": [
    "1\\.Which of the following are true and which are false? Give brief explanations.\n",
    "- a. In a fully observable, turn-taking, zero-sum game between two perfectly rational players,it does not help the first player to know what strategy the second player is using—that is, what move the second player will make, given the first player's move.\n",
    "- b. In a partially observable, turn-taking, zero-sum game between two perfectly rational players, it does not help the first player to know what move the second player will make, given the first player's move.\n",
    "- c. A perfectly rational backgammon agent never loses.\n",
    "\n",
    "See textbook Chapter6 24.6"
   ]
  },
  {
   "cell_type": "markdown",
   "metadata": {},
   "source": [
    "_your answer here..._  \n",
    "a. True. Because the first player does not need that information to make decision -- the behavior of the second player is completely predictable.  \n",
    "b. False. Because the first player can obtain additional information about the game state via the second player's move, which information is otherwise hidden to first player.  \n",
    "c. False. Some games depend on fortune to some extent, such as a card game Texas Holdem.\n",
    "***"
   ]
  },
  {
   "cell_type": "markdown",
   "metadata": {},
   "source": [
    "2\\.Define in your own words the terms constraint, backtracking search, arc consistency,backjumping, min-conflicts, and cycle cutset.\n",
    "\n",
    "See textbook Chapter6 6.16"
   ]
  },
  {
   "cell_type": "markdown",
   "metadata": {},
   "source": [
    "_your answer here..._  \n",
    "- constraint: a restriction on the possible values of two or more variables.  \n",
    "- backtracking search: one search algorithm based on DFS, search along a path and backtrack when there is no vaild value. The main difference is that it does not preserve the entire search tree, instead it just store the path from the root to the current active node.  \n",
    "- arc consistency: A directed arc from variable A to variable B in a CSP is arc consistent if, for every value in the current domain of A, there is some consistent value of B.  \n",
    "- backjumping: jump back when there is a dead end.  \n",
    "- min-conflicts: a heuristic for use with local search on CSP problems. The heuristic says that, when given a variable to modify, choose the value that conflicts with the fewest number of other variables.  \n",
    "- cycle cutset: A cycle cutset is a set of variables which when removed from the constraint graph make it acyclic (i.e., a tree). When the variables of a cycle cutset are instantiated the remainder of the CSP can be solved in linear time.  \n",
    "***"
   ]
  },
  {
   "cell_type": "markdown",
   "metadata": {},
   "source": [
    "3\\.Explain why it is a good heuristic to choose the variable that is most constrained but the value that is least constraining in a CSP search.\n",
    "\n",
    "See textbook Chapter6 6.9"
   ]
  },
  {
   "cell_type": "markdown",
   "metadata": {},
   "source": [
    "_your answer here..._ \n",
    "- Because the most constrained variable is more likely to fail earily, so that a large part of search space can be pruned.\n",
    "The least constraining value gives more chances for future assignments to avoid conflict. \n",
    "\n",
    "\n",
    "***"
   ]
  },
  {
   "cell_type": "markdown",
   "metadata": {},
   "source": [
    "4\\.Consider the following procedure for choosing moves in games with chance nodes: \n",
    "- 1、Generate some dice-roll sequences (say, 50) down to a suitable depth (say, 8).\n",
    "- 2、With known dice rolls, the game tree becomes deterministic. For each dice-roll sequence,solve the resulting deterministic game tree using alpha-beta.\n",
    "- 3、Use the results to estimate the value of each move and to choose the best.Will this procedure work well? Why (or why not)?\n",
    "\n",
    "See textbook Chapter5 5.19"
   ]
  },
  {
   "cell_type": "markdown",
   "metadata": {},
   "source": [
    "_your answer here..._ \n",
    "- No, it won't work well. The result of dice-roll has no relationship with the game, so it can not provide useful guildance.  \n",
    "***"
   ]
  },
  {
   "cell_type": "markdown",
   "metadata": {},
   "source": [
    "5\\. Now,please consider this game:  there are three plates A, B and C, each plate has three bills. A puts 1, 20, 50; B puts 5, 10, 100; C puts 1, 5, 20. All units are \"Yuan\". There are two persons A and B, and two of them can check out three plates and banknotes .（ A is ourself, The other is B）\n",
    "The game is divided into three steps: \n",
    "- 1、A select a plate from three plate.\n",
    "- 2、B take out two banknotes from A selected plate,and give the  banknotes to A.  \n",
    "- 3、A take one of the two banknotes, and take it away.among,A want to get the max banknotes, B want to let A to get the min.\n",
    "\n",
    "Try to understand the minimax algorithm，you can click the link:https://blog.csdn.net/tangchenyi/article/details/22920031"
   ]
  },
  {
   "cell_type": "markdown",
   "metadata": {},
   "source": [
    "_your answer here..._ \n",
    "- 1st step: person A choose plate A\n",
    "- 2nd step: person B choose 1 and 20 banknotes\n",
    "- 3rd step: person A choose the 20 banknote, the game is over\n",
    "***"
   ]
  },
  {
   "cell_type": "markdown",
   "metadata": {},
   "source": [
    "### Programming Excercises"
   ]
  },
  {
   "cell_type": "markdown",
   "metadata": {},
   "source": [
    "1\\. Guess number(Single number): please generate a randomly number  with the function (random), then ask someone to guess the number,I think we should give the corresponding hint, otherwise it will be very difficult to guess the number.the game will be over untill you get the right number."
   ]
  },
  {
   "cell_type": "code",
   "execution_count": 2,
   "metadata": {},
   "outputs": [
    {
     "name": "stdout",
     "output_type": "stream",
     "text": [
      "we generate a integer between 0 and 100, including 0 and 100, now you guess it\n",
      "please input a integer: 85\n",
      "too big, try a smaller one\n",
      "please input a new integer: 45\n",
      "too small, try a bigger one\n",
      "please input a new integer: 65\n",
      "too small, try a bigger one\n",
      "please input a new integer: 75\n",
      "too big, try a smaller one\n",
      "please input a new integer: 70\n",
      "too big, try a smaller one\n",
      "please input a new integer: 67\n",
      "You got it!\n"
     ]
    }
   ],
   "source": [
    "## write your answer here!\n",
    "import random\n",
    "\n",
    "number = random.randint(0,100)\n",
    "print('we generate a integer between 0 and 100, including 0 and 100, now you guess it')\n",
    "guess = int(input('please input a integer: '))\n",
    "\n",
    "while guess != number:\n",
    "    if guess < number:\n",
    "        print('too small, try a bigger one')\n",
    "        guess = int(input('please input a new integer: '))\n",
    "    if guess > number:\n",
    "        print('too big, try a smaller one')\n",
    "        guess = int(input('please input a new integer: '))\n",
    "\n",
    "if guess == number:\n",
    "    print('You got it!')"
   ]
  },
  {
   "cell_type": "markdown",
   "metadata": {},
   "source": [
    "2\\.if you had understand the guess single number games,Congratulates,next is the guess three number games,Maybe you can do it well.But this is a different way of thinking. \n",
    "first : we need generate three numbers,there are most ten times chances give  you to guess the number,of course,we also give you some cue.\n",
    "\n",
    "- 'When I say:-->It means:\n",
    "- 'error--> The 3 numbers are not in the mystical numbers.'\n",
    "- 'Only the number is correct --> the number is right , but the position is not right.'\n",
    "- 'Absolutely right--> numbers is right and the position also right.'\n",
    "\n",
    "Maybe it's better for you to understand the rule well through see the picture.\n",
    "<div style=\"float:left;\" ><img src=\"img/p1.png\" width=\"400\" height=\"300\" >"
   ]
  },
  {
   "cell_type": "code",
   "execution_count": 5,
   "metadata": {},
   "outputs": [
    {
     "name": "stdout",
     "output_type": "stream",
     "text": [
      "there are 3 numbers，please Guess what it is.\n",
      "The clue I gave is:\n",
      "When I say:                     It means:\n",
      "error                           The 3 numbers are not in the mystical numbers.\n",
      "Only the number is correct      the number is right , but the position is not right..\n",
      "Absolutely right                numbers is right and the position also right.\n",
      "This is the 1 time 763\n",
      "['Only the number is correct', 'error', 'error']\n",
      "This is the 2 time 109\n",
      "['error', 'error', 'error']\n",
      "This is the 3 time 284\n",
      "['error', 'error', 'error']\n",
      "This is the 4 time 557\n",
      "['Absolutely right', 'Only the number is correct', 'Only the number is correct']\n",
      "This is the 5 time 577\n",
      "['Absolutely right', 'Absolutely right', 'Only the number is correct']\n",
      "This is the 6 time 575\n",
      "Congratulation! \n",
      "Do you want to play again? (yes or no)no\n"
     ]
    }
   ],
   "source": [
    "## write your answer here!\n",
    "import random \n",
    "\n",
    "number = random.randint(100,999)\n",
    "\n",
    "third = (int)(number % 10)\n",
    "second = (int)(number/10 % 10)\n",
    "first = (int)(number/100 % 10)\n",
    "\n",
    "number_list = [first, second, third]\n",
    "\n",
    "print('there are 3 numbers，please Guess what it is.')\n",
    "print('The clue I gave is:')\n",
    "print('When I say:                     It means:')\n",
    "print('error                           The 3 numbers are not in the mystical numbers.')\n",
    "print('Only the number is correct      the number is right , but the position is not right..')\n",
    "print('Absolutely right                numbers is right and the position also right.')\n",
    "\n",
    "def play_again():\n",
    "    count = 1\n",
    "    while count <= 10:\n",
    "        guess = (int)(input('This is the {} time '.format(count)))\n",
    "        count += 1\n",
    "        guess_list = [(int)(guess/100 % 10), (int)(guess/10 % 10), (int)(guess % 10)]\n",
    "        output_list = []\n",
    "        right_time = 0\n",
    "        for i in range(3):\n",
    "            if guess_list[i] == number_list[i]:\n",
    "                output_list.append('Absolutely right')\n",
    "                right_time += 1\n",
    "            elif guess_list[i] != number_list[i] and guess_list[i] in number_list:\n",
    "                output_list.append('Only the number is correct')\n",
    "            else:\n",
    "                output_list.append(\"error\")\n",
    "        if right_time == 3:\n",
    "            print('Congratulation! ')\n",
    "            ans = input('Do you want to play again? (yes or no)')\n",
    "            if ans == 'yes':\n",
    "                play_again()\n",
    "                break\n",
    "            elif ans == 'no':\n",
    "                break\n",
    "        elif right_time != 3:\n",
    "            print(output_list)\n",
    "    if count == 11:\n",
    "        ans = input('Do you want to play again? (yes or no)')\n",
    "        if ans == 'yes':\n",
    "            play_again()\n",
    "        \n",
    "play_again()"
   ]
  },
  {
   "cell_type": "markdown",
   "metadata": {},
   "source": [
    "3\\.please try using Python's Tkinter to make a visual interface（GUI）.if you don't know anything.Maybe you can refer to the below interface.and implement it by code.\n",
    "\n",
    "<div style=\"float:left;\" ><img src=\"img/p2.png\" width=\"200\" height=\"200\" >"
   ]
  },
  {
   "cell_type": "code",
   "execution_count": 9,
   "metadata": {},
   "outputs": [],
   "source": [
    "from tkinter import *           # 导入 Tkinter 库\n",
    "root = Tk()                     # 创建窗口对象的背景色\n",
    "                                # 创建两个列表\n",
    "li     = ['C','python','php','html','SQL','java']\n",
    "movie  = ['CSS','jQuery','Bootstrap']\n",
    "listb  = Listbox(root)          #  创建两个列表组件\n",
    "listb2 = Listbox(root)\n",
    "for item in li:                 # 第一个小部件插入数据\n",
    "    listb.insert(0,item)\n",
    " \n",
    "for item in movie:              # 第二个小部件插入数据\n",
    "    listb2.insert(0,item)\n",
    " \n",
    "listb.pack()                    # 将小部件放置到主窗口中\n",
    "listb2.pack()\n",
    "root.mainloop()                 # 进入消息循环"
   ]
  },
  {
   "cell_type": "markdown",
   "metadata": {},
   "source": [
    "4\\.Through the initial trial of Tkinter,    please write a simple calculator.\n",
    "\n",
    "<div style=\"float:left;\" ><img src=\"img/p3.png\" width=\"180\" height=\"200\" center=\"left\"></div>\n",
    "<div style=\"float:left;\" ><img src=\"img/p4.png\" width=\"180\" height=\"200\" center=\"right\" ></div>"
   ]
  },
  {
   "cell_type": "code",
   "execution_count": 64,
   "metadata": {},
   "outputs": [
    {
     "name": "stdout",
     "output_type": "stream",
     "text": [
      "calculator start\n"
     ]
    }
   ],
   "source": [
    "## write your answer here!\n",
    "\n",
    "from tkinter import *\n",
    "\n",
    "root = Tk()\n",
    "    \n",
    "root.geometry('400x500')\n",
    "root.title('simple calculator')\n",
    "\n",
    "def delete():\n",
    "    global i\n",
    "    i = i[:-1]\n",
    "    show_lable['text'] = i\n",
    "    \n",
    "#创建横条型框架\n",
    "def frame(root, side):\n",
    "    w = Frame(width=300, height=150, bg='#dddddd')\n",
    "    w.pack(side = side, expand = YES, fill = BOTH)\n",
    "    return w\n",
    "#创建按钮\n",
    "def button(root, side, text, command = None):\n",
    "    w = Button(root, text = text, command = command)\n",
    "    w.pack(side = side, expand = YES, fill = BOTH)\n",
    "    return w\n",
    "\n",
    "#继承了Frame类，初始化程序界面的布局\n",
    "class Calculator(Frame):\n",
    "    def __init__(self):\n",
    "        \n",
    "        Frame.__init__(self)\n",
    "        \n",
    "        self.pack(expand = YES, fill = BOTH)\n",
    "        self.master.title('Simple Calculater')\n",
    "        \n",
    "        display = StringVar()\n",
    "        #添加输入框\n",
    "        Entry(self, relief = SUNKEN,\n",
    "              textvariable = display).pack(side = TOP, expand = YES, fill = BOTH)\n",
    "        \n",
    "        butLoc = frame(self, TOP)\n",
    "        button(butLoc, LEFT, 'C', lambda w = display:w.set(''))\n",
    "        button(butLoc, LEFT, '±', lambda w = display:w.set('意味わかんない'))\n",
    "        button(butLoc, LEFT, '←', lambda w = display:w.set('萌混过关'))\n",
    "        button(butLoc, LEFT, 'CE', lambda w = display:w.set(''))\n",
    "\n",
    "\n",
    "        #添加横条型框架以及里面的按钮\n",
    "        for key in('1234', '5678'):\n",
    "            keyF = frame(self, TOP)\n",
    "            for char in key:\n",
    "                button(keyF, LEFT, char, lambda w = display, c = char:w.set(w.get() + c))\n",
    "        #添加操作符按钮\n",
    "        opsF = frame(self, TOP)\n",
    "        opsF2 = frame(self, TOP)\n",
    "            \n",
    "        for key in('.90='):\n",
    "            for char in key:\n",
    "                if char != '=':\n",
    "                    button(opsF, LEFT, char, lambda w = display, c = char:w.set(w.get() + c))\n",
    "                if char == '=':\n",
    "                    btn = button(opsF, LEFT, char)\n",
    "                    btn.bind('<ButtonRelease - 1>', lambda e, s = self, w = display:s.calc(w), '+')\n",
    "\n",
    "        for char in '+-*/':\n",
    "            btn = button(opsF2, LEFT, char, lambda w = display, s = '%s' %char:w.set(w.get() + s))\n",
    "        #添加清除按钮\n",
    "        clearF = frame(self, BOTTOM)\n",
    "        button(clearF, LEFT, 'clear', lambda w = display:w.set(''))\n",
    " \n",
    "    #调用eval函数计算表达式的值\n",
    "    def calc(self, display):\n",
    "        try:\n",
    "            display.set(eval(display.get()))\n",
    "        except:\n",
    "            display.set(\"ERROR\")\n",
    "#程序的入口\n",
    "if __name__ == '__main__':\n",
    "    print('calculator start')\n",
    "    Calculator().mainloop()\n",
    "        \n"
   ]
  },
  {
   "cell_type": "markdown",
   "metadata": {},
   "source": [
    "5\\.Ball game:Python's pinball game, which can realize the game function of the keyboard control bottom baffle moving collision ball similar to table tennis game. \n",
    "\n",
    "<div style=\"float:left;\" ><img src=\"img/p5.png\" width=\"200\" height=\"200\" center=\"left\"></div>\n",
    "<div style=\"float:left;\" ><img src=\"img/p6.png\" width=\"200\" height=\"200\" center=\"right\" ></div>\n"
   ]
  },
  {
   "cell_type": "markdown",
   "metadata": {},
   "source": [
    "this is a step:how to install the matplotlib,you can reference this link:https://blog.csdn.net/not_give_up_/article/details/79058272\n",
    "1. Ball Class\n",
    "    draw is responsible for moving Ball\n",
    "    Collision detection, bounce, Ball detection of Paddle \n",
    "2. Paddle Class\n",
    "    draw is responsible for moving Paddle\n",
    "    Collision detection to determine whether or not to continue ,Monitor keyboard events\n",
    "3. main cycle\n",
    "    Drawing the Ball and Paddle"
   ]
  },
  {
   "cell_type": "code",
   "execution_count": 72,
   "metadata": {},
   "outputs": [
    {
     "ename": "TclError",
     "evalue": "can't invoke \"update\" command: application has been destroyed",
     "output_type": "error",
     "traceback": [
      "\u001b[1;31m---------------------------------------------------------------------------\u001b[0m",
      "\u001b[1;31mTclError\u001b[0m                                  Traceback (most recent call last)",
      "\u001b[1;32m<ipython-input-72-97347a7504a6>\u001b[0m in \u001b[0;36m<module>\u001b[1;34m()\u001b[0m\n\u001b[0;32m     64\u001b[0m         \u001b[0mball\u001b[0m\u001b[1;33m.\u001b[0m\u001b[0mdraw\u001b[0m\u001b[1;33m(\u001b[0m\u001b[1;33m)\u001b[0m\u001b[1;33m\u001b[0m\u001b[0m\n\u001b[0;32m     65\u001b[0m         \u001b[0mpaddle\u001b[0m\u001b[1;33m.\u001b[0m\u001b[0mdraw\u001b[0m\u001b[1;33m(\u001b[0m\u001b[1;33m)\u001b[0m\u001b[1;33m\u001b[0m\u001b[0m\n\u001b[1;32m---> 66\u001b[1;33m     \u001b[0mtk\u001b[0m\u001b[1;33m.\u001b[0m\u001b[0mupdate_idletasks\u001b[0m\u001b[1;33m(\u001b[0m\u001b[1;33m)\u001b[0m\u001b[1;33m\u001b[0m\u001b[0m\n\u001b[0m\u001b[0;32m     67\u001b[0m     \u001b[0mtk\u001b[0m\u001b[1;33m.\u001b[0m\u001b[0mupdate\u001b[0m\u001b[1;33m(\u001b[0m\u001b[1;33m)\u001b[0m\u001b[1;33m\u001b[0m\u001b[0m\n\u001b[0;32m     68\u001b[0m     \u001b[0mtime\u001b[0m\u001b[1;33m.\u001b[0m\u001b[0msleep\u001b[0m\u001b[1;33m(\u001b[0m\u001b[1;36m0.01\u001b[0m\u001b[1;33m)\u001b[0m\u001b[1;33m\u001b[0m\u001b[0m\n",
      "\u001b[1;32m~\\AppData\\Local\\conda\\conda\\envs\\python36\\lib\\tkinter\\__init__.py\u001b[0m in \u001b[0;36mupdate_idletasks\u001b[1;34m(self)\u001b[0m\n\u001b[0;32m   1177\u001b[0m         \u001b[0mwill\u001b[0m \u001b[0mupdate\u001b[0m \u001b[0mthe\u001b[0m \u001b[0mdisplay\u001b[0m \u001b[0mof\u001b[0m \u001b[0mwindows\u001b[0m \u001b[0mbut\u001b[0m \u001b[1;32mnot\u001b[0m \u001b[0mprocess\u001b[0m \u001b[0mevents\u001b[0m \u001b[0mcaused\u001b[0m \u001b[0mby\u001b[0m\u001b[1;33m\u001b[0m\u001b[0m\n\u001b[0;32m   1178\u001b[0m         the user.\"\"\"\n\u001b[1;32m-> 1179\u001b[1;33m         \u001b[0mself\u001b[0m\u001b[1;33m.\u001b[0m\u001b[0mtk\u001b[0m\u001b[1;33m.\u001b[0m\u001b[0mcall\u001b[0m\u001b[1;33m(\u001b[0m\u001b[1;34m'update'\u001b[0m\u001b[1;33m,\u001b[0m \u001b[1;34m'idletasks'\u001b[0m\u001b[1;33m)\u001b[0m\u001b[1;33m\u001b[0m\u001b[0m\n\u001b[0m\u001b[0;32m   1180\u001b[0m     \u001b[1;32mdef\u001b[0m \u001b[0mbindtags\u001b[0m\u001b[1;33m(\u001b[0m\u001b[0mself\u001b[0m\u001b[1;33m,\u001b[0m \u001b[0mtagList\u001b[0m\u001b[1;33m=\u001b[0m\u001b[1;32mNone\u001b[0m\u001b[1;33m)\u001b[0m\u001b[1;33m:\u001b[0m\u001b[1;33m\u001b[0m\u001b[0m\n\u001b[0;32m   1181\u001b[0m         \"\"\"Set or get the list of bindtags for this widget.\n",
      "\u001b[1;31mTclError\u001b[0m: can't invoke \"update\" command: application has been destroyed"
     ]
    }
   ],
   "source": [
    "## write your answer here!\n",
    "from tkinter import *\n",
    "import matplotlib\n",
    "matplotlib.use('Agg')\n",
    "import random\n",
    "import time\n",
    "class Ball:\n",
    "    def __init__(self, canvas, paddle, color):\n",
    "        self.canvas = canvas\n",
    "        self.paddle = paddle\n",
    "        self.id = canvas.create_oval(10, 10, 25, 25, fill=color)\n",
    "        self.canvas.move(self.id, 245, 100)\n",
    "        startx = [-3, -2, -1, 1, 2, 3]\n",
    "        random.shuffle(startx)\n",
    "        self.x = startx[0]\n",
    "        self.y = -3\n",
    "        self.canvas_height = self.canvas.winfo_height()\n",
    "        self.canvas_width = self.canvas.winfo_width()\n",
    "        self.hit_bottom = False\n",
    "    def draw(self):\n",
    "        self.canvas.move(self.id, self.x, self.y)\n",
    "        pos = self.canvas.coords(self.id)#top-left bottom-right\n",
    "        if (pos[1] <= 0 or self.hit_paddle(pos) == True):\n",
    "            self.y = -self.y\n",
    "        if (pos[0] <= 0 or pos[2] >= self.canvas_width):\n",
    "            self.x = -self.x\n",
    "        if (pos[3] >= self.canvas_height):\n",
    "            self.hit_bottom = True\n",
    "    def hit_paddle(self, pos):\n",
    "        paddle_pos = self.canvas.coords(self.paddle.id)\n",
    "        if (pos[2] >= paddle_pos[0] and pos[0] <= paddle_pos[2]):\n",
    "            if (pos[3] >= paddle_pos[1] and pos[3] <= paddle_pos[3]):\n",
    "                return True\n",
    "        return False\n",
    "class Paddle:\n",
    "    def __init__(self, canvas, color):\n",
    "        self.canvas = canvas\n",
    "        self.id = canvas.create_rectangle(0, 0, 100, 10, fill = color)\n",
    "        self.x = 0\n",
    "        self.canvas.move(self.id, 200, 300)\n",
    "        self.canvas_width = self.canvas.winfo_width()\n",
    "        self.canvas.bind_all(\"<Key-Left>\", self.turn_left)\n",
    "        self.canvas.bind_all(\"<Key-Right>\", self.turn_right)\n",
    "    def draw(self):\n",
    "        pos = self.canvas.coords(self.id)\n",
    "        if (pos[0] + self.x >= 0 and pos[2] + self.x <= self.canvas_width):\n",
    "            self.canvas.move(self.id, self.x, 0)\n",
    "        #self.x = 0\n",
    "    def turn_left(self, event):\n",
    "        self.x = -4\n",
    "    def turn_right(self, event):\n",
    "        self.x = 4\n",
    "tk = Tk()\n",
    "tk.title(\"Game\")\n",
    "tk.resizable(0, 0)#not resizable\n",
    "tk.wm_attributes(\"-topmost\", 1)#at top\n",
    "canvas = Canvas(tk, width = 500, height = 500, bd = 0, highlightthickness = 0)\n",
    "canvas.pack()\n",
    "tk.update()#init\n",
    "paddle = Paddle(canvas, 'blue')\n",
    "ball = Ball(canvas, paddle, 'red')\n",
    "while 1:\n",
    "    if (ball.hit_bottom == False):\n",
    "        ball.draw()\n",
    "        paddle.draw()\n",
    "    tk.update_idletasks()\n",
    "    tk.update()\n",
    "    time.sleep(0.01)"
   ]
  }
 ],
 "metadata": {
  "kernelspec": {
   "display_name": "Python 3",
   "language": "python",
   "name": "python3"
  },
  "language_info": {
   "codemirror_mode": {
    "name": "ipython",
    "version": 3
   },
   "file_extension": ".py",
   "mimetype": "text/x-python",
   "name": "python",
   "nbconvert_exporter": "python",
   "pygments_lexer": "ipython3",
   "version": "3.6.6"
  }
 },
 "nbformat": 4,
 "nbformat_minor": 2
}
